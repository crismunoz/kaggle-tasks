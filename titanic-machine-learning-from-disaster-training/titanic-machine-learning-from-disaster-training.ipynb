{
 "cells": [
  {
   "cell_type": "code",
   "execution_count": 1,
   "id": "instrumental-perth",
   "metadata": {
    "_cell_guid": "b1076dfc-b9ad-4769-8c92-a6c4dae69d19",
    "_uuid": "8f2839f25d086af736a60e9eeb907d3b93b6e0e5",
    "execution": {
     "iopub.execute_input": "2021-04-16T07:29:25.243122Z",
     "iopub.status.busy": "2021-04-16T07:29:25.242381Z",
     "iopub.status.idle": "2021-04-16T07:29:25.256380Z",
     "shell.execute_reply": "2021-04-16T07:29:25.256969Z"
    },
    "papermill": {
     "duration": 0.044649,
     "end_time": "2021-04-16T07:29:25.257285",
     "exception": false,
     "start_time": "2021-04-16T07:29:25.212636",
     "status": "completed"
    },
    "tags": []
   },
   "outputs": [
    {
     "name": "stdout",
     "output_type": "stream",
     "text": [
      "/kaggle/input/titanic/train.csv\n",
      "/kaggle/input/titanic/test.csv\n",
      "/kaggle/input/titanic/gender_submission.csv\n",
      "/kaggle/input/titanic-machine-learning-from-disaster/train.csv\n",
      "/kaggle/input/titanic-machine-learning-from-disaster/test.csv\n"
     ]
    }
   ],
   "source": [
    "# This Python 3 environment comes with many helpful analytics libraries installed\n",
    "# It is defined by the kaggle/python Docker image: https://github.com/kaggle/docker-python\n",
    "# For example, here's several helpful packages to load\n",
    "\n",
    "import numpy as np # linear algebra\n",
    "import pandas as pd # data processing, CSV file I/O (e.g. pd.read_csv)\n",
    "\n",
    "# Input data files are available in the read-only \"../input/\" directory\n",
    "# For example, running this (by clicking run or pressing Shift+Enter) will list all files under the input directory\n",
    "\n",
    "import os\n",
    "for dirname, _, filenames in os.walk('/kaggle/input'):\n",
    "    for filename in filenames:\n",
    "        print(os.path.join(dirname, filename))\n",
    "\n",
    "# You can write up to 20GB to the current directory (/kaggle/working/) that gets preserved as output when you create a version using \"Save & Run All\" \n",
    "# You can also write temporary files to /kaggle/temp/, but they won't be saved outside of the current session"
   ]
  },
  {
   "cell_type": "code",
   "execution_count": 2,
   "id": "million-silver",
   "metadata": {
    "execution": {
     "iopub.execute_input": "2021-04-16T07:29:25.314071Z",
     "iopub.status.busy": "2021-04-16T07:29:25.313387Z",
     "iopub.status.idle": "2021-04-16T07:29:26.825747Z",
     "shell.execute_reply": "2021-04-16T07:29:26.825120Z"
    },
    "papermill": {
     "duration": 1.545035,
     "end_time": "2021-04-16T07:29:26.825897",
     "exception": false,
     "start_time": "2021-04-16T07:29:25.280862",
     "status": "completed"
    },
    "tags": []
   },
   "outputs": [],
   "source": [
    "import warnings\n",
    "warnings.filterwarnings(\"ignore\")\n",
    "import random\n",
    "import os\n",
    "import pandas as pd\n",
    "from sklearn.model_selection import GridSearchCV, cross_val_score\n",
    "from sklearn.ensemble import RandomForestClassifier\n",
    "from sklearn.preprocessing import LabelEncoder,MinMaxScaler\n",
    "import numpy as np\n",
    "import seaborn as sns\n",
    "from matplotlib.pyplot import rcParams\n",
    "import matplotlib.pyplot as plt\n",
    "from sklearn.preprocessing import OneHotEncoder\n",
    "import numpy as np\n",
    "\n",
    "%matplotlib inline\n",
    "rcParams['figure.figsize'] = 10,8\n",
    "sns.set(style='whitegrid', palette='muted',\n",
    "        rc={'figure.figsize': (15,10)})"
   ]
  },
  {
   "cell_type": "code",
   "execution_count": 3,
   "id": "defined-september",
   "metadata": {
    "execution": {
     "iopub.execute_input": "2021-04-16T07:29:26.877348Z",
     "iopub.status.busy": "2021-04-16T07:29:26.876635Z",
     "iopub.status.idle": "2021-04-16T07:29:26.933888Z",
     "shell.execute_reply": "2021-04-16T07:29:26.933221Z"
    },
    "papermill": {
     "duration": 0.085254,
     "end_time": "2021-04-16T07:29:26.934027",
     "exception": false,
     "start_time": "2021-04-16T07:29:26.848773",
     "status": "completed"
    },
    "tags": []
   },
   "outputs": [
    {
     "data": {
      "text/html": [
       "<div>\n",
       "<style scoped>\n",
       "    .dataframe tbody tr th:only-of-type {\n",
       "        vertical-align: middle;\n",
       "    }\n",
       "\n",
       "    .dataframe tbody tr th {\n",
       "        vertical-align: top;\n",
       "    }\n",
       "\n",
       "    .dataframe thead th {\n",
       "        text-align: right;\n",
       "    }\n",
       "</style>\n",
       "<table border=\"1\" class=\"dataframe\">\n",
       "  <thead>\n",
       "    <tr style=\"text-align: right;\">\n",
       "      <th></th>\n",
       "      <th>PassengerId</th>\n",
       "      <th>Survived</th>\n",
       "      <th>Pclass</th>\n",
       "      <th>Name</th>\n",
       "      <th>Sex</th>\n",
       "      <th>Age</th>\n",
       "      <th>SibSp</th>\n",
       "      <th>Parch</th>\n",
       "      <th>Ticket</th>\n",
       "      <th>Fare</th>\n",
       "      <th>Cabin</th>\n",
       "      <th>Embarked</th>\n",
       "    </tr>\n",
       "  </thead>\n",
       "  <tbody>\n",
       "    <tr>\n",
       "      <th>0</th>\n",
       "      <td>1</td>\n",
       "      <td>0</td>\n",
       "      <td>3</td>\n",
       "      <td>Braund, Mr. Owen Harris</td>\n",
       "      <td>male</td>\n",
       "      <td>22.0</td>\n",
       "      <td>1</td>\n",
       "      <td>0</td>\n",
       "      <td>A/5 21171</td>\n",
       "      <td>7.2500</td>\n",
       "      <td>NaN</td>\n",
       "      <td>S</td>\n",
       "    </tr>\n",
       "    <tr>\n",
       "      <th>1</th>\n",
       "      <td>2</td>\n",
       "      <td>1</td>\n",
       "      <td>1</td>\n",
       "      <td>Cumings, Mrs. John Bradley (Florence Briggs Th...</td>\n",
       "      <td>female</td>\n",
       "      <td>38.0</td>\n",
       "      <td>1</td>\n",
       "      <td>0</td>\n",
       "      <td>PC 17599</td>\n",
       "      <td>71.2833</td>\n",
       "      <td>C85</td>\n",
       "      <td>C</td>\n",
       "    </tr>\n",
       "    <tr>\n",
       "      <th>2</th>\n",
       "      <td>3</td>\n",
       "      <td>1</td>\n",
       "      <td>3</td>\n",
       "      <td>Heikkinen, Miss. Laina</td>\n",
       "      <td>female</td>\n",
       "      <td>26.0</td>\n",
       "      <td>0</td>\n",
       "      <td>0</td>\n",
       "      <td>STON/O2. 3101282</td>\n",
       "      <td>7.9250</td>\n",
       "      <td>NaN</td>\n",
       "      <td>S</td>\n",
       "    </tr>\n",
       "    <tr>\n",
       "      <th>3</th>\n",
       "      <td>4</td>\n",
       "      <td>1</td>\n",
       "      <td>1</td>\n",
       "      <td>Futrelle, Mrs. Jacques Heath (Lily May Peel)</td>\n",
       "      <td>female</td>\n",
       "      <td>35.0</td>\n",
       "      <td>1</td>\n",
       "      <td>0</td>\n",
       "      <td>113803</td>\n",
       "      <td>53.1000</td>\n",
       "      <td>C123</td>\n",
       "      <td>S</td>\n",
       "    </tr>\n",
       "    <tr>\n",
       "      <th>4</th>\n",
       "      <td>5</td>\n",
       "      <td>0</td>\n",
       "      <td>3</td>\n",
       "      <td>Allen, Mr. William Henry</td>\n",
       "      <td>male</td>\n",
       "      <td>35.0</td>\n",
       "      <td>0</td>\n",
       "      <td>0</td>\n",
       "      <td>373450</td>\n",
       "      <td>8.0500</td>\n",
       "      <td>NaN</td>\n",
       "      <td>S</td>\n",
       "    </tr>\n",
       "  </tbody>\n",
       "</table>\n",
       "</div>"
      ],
      "text/plain": [
       "   PassengerId  Survived  Pclass  \\\n",
       "0            1         0       3   \n",
       "1            2         1       1   \n",
       "2            3         1       3   \n",
       "3            4         1       1   \n",
       "4            5         0       3   \n",
       "\n",
       "                                                Name     Sex   Age  SibSp  \\\n",
       "0                            Braund, Mr. Owen Harris    male  22.0      1   \n",
       "1  Cumings, Mrs. John Bradley (Florence Briggs Th...  female  38.0      1   \n",
       "2                             Heikkinen, Miss. Laina  female  26.0      0   \n",
       "3       Futrelle, Mrs. Jacques Heath (Lily May Peel)  female  35.0      1   \n",
       "4                           Allen, Mr. William Henry    male  35.0      0   \n",
       "\n",
       "   Parch            Ticket     Fare Cabin Embarked  \n",
       "0      0         A/5 21171   7.2500   NaN        S  \n",
       "1      0          PC 17599  71.2833   C85        C  \n",
       "2      0  STON/O2. 3101282   7.9250   NaN        S  \n",
       "3      0            113803  53.1000  C123        S  \n",
       "4      0            373450   8.0500   NaN        S  "
      ]
     },
     "execution_count": 3,
     "metadata": {},
     "output_type": "execute_result"
    }
   ],
   "source": [
    "train_path ='/kaggle/input/titanic-machine-learning-from-disaster/train.csv'\n",
    "test_path ='/kaggle/input/titanic-machine-learning-from-disaster/test.csv'\n",
    "df_train = pd.read_csv(train_path)\n",
    "df_test = pd.read_csv(test_path)\n",
    "df_train.head()"
   ]
  },
  {
   "cell_type": "code",
   "execution_count": 4,
   "id": "universal-paris",
   "metadata": {
    "execution": {
     "iopub.execute_input": "2021-04-16T07:29:26.996307Z",
     "iopub.status.busy": "2021-04-16T07:29:26.992127Z",
     "iopub.status.idle": "2021-04-16T07:29:27.000107Z",
     "shell.execute_reply": "2021-04-16T07:29:26.999556Z"
    },
    "papermill": {
     "duration": 0.041685,
     "end_time": "2021-04-16T07:29:27.000243",
     "exception": false,
     "start_time": "2021-04-16T07:29:26.958558",
     "status": "completed"
    },
    "tags": []
   },
   "outputs": [],
   "source": [
    "def preprocessing_dataframe(df, test=False):\n",
    "    df_clean = df\n",
    "    df_clean['Pclass'] = df_clean['Pclass'].astype('int32')\n",
    "    df_clean['Age'] = df_clean['Age'].astype('float32')\n",
    "    df_clean['SibSp'] = df_clean['SibSp'].astype('int32')\n",
    "    df_clean['Parch'] = df_clean['Parch'].astype('int32')\n",
    "    df_clean['Fare'] = df_clean['Fare'].astype('float32')\n",
    "    if not test:\n",
    "        df_clean['Survived'] = df_clean['Survived'].astype('int32')\n",
    "    return df_clean\n",
    "\n",
    "df_train = preprocessing_dataframe(df_train, test=False)\n",
    "df_test = preprocessing_dataframe(df_test, test=True)"
   ]
  },
  {
   "cell_type": "code",
   "execution_count": 5,
   "id": "otherwise-violin",
   "metadata": {
    "execution": {
     "iopub.execute_input": "2021-04-16T07:29:27.052745Z",
     "iopub.status.busy": "2021-04-16T07:29:27.051886Z",
     "iopub.status.idle": "2021-04-16T07:29:27.063649Z",
     "shell.execute_reply": "2021-04-16T07:29:27.062895Z"
    },
    "papermill": {
     "duration": 0.040499,
     "end_time": "2021-04-16T07:29:27.063852",
     "exception": false,
     "start_time": "2021-04-16T07:29:27.023353",
     "status": "completed"
    },
    "tags": []
   },
   "outputs": [
    {
     "name": "stdout",
     "output_type": "stream",
     "text": [
      "Age 177\n",
      "Cabin 687\n",
      "Embarked 2\n"
     ]
    }
   ],
   "source": [
    "for col in df_train.columns:\n",
    "    num_nans = np.sum(df_train[col].isna())\n",
    "    if num_nans>0:\n",
    "        print(col,num_nans)"
   ]
  },
  {
   "cell_type": "code",
   "execution_count": 6,
   "id": "protecting-jacket",
   "metadata": {
    "execution": {
     "iopub.execute_input": "2021-04-16T07:29:27.127637Z",
     "iopub.status.busy": "2021-04-16T07:29:27.126624Z",
     "iopub.status.idle": "2021-04-16T07:29:27.131738Z",
     "shell.execute_reply": "2021-04-16T07:29:27.130943Z"
    },
    "papermill": {
     "duration": 0.043792,
     "end_time": "2021-04-16T07:29:27.131905",
     "exception": false,
     "start_time": "2021-04-16T07:29:27.088113",
     "status": "completed"
    },
    "tags": []
   },
   "outputs": [
    {
     "name": "stdout",
     "output_type": "stream",
     "text": [
      "Age 86\n",
      "Fare 1\n",
      "Cabin 327\n"
     ]
    }
   ],
   "source": [
    "for col in df_test.columns:\n",
    "    num_nans = np.sum(df_test[col].isna())\n",
    "    if num_nans>0:\n",
    "        print(col,num_nans)"
   ]
  },
  {
   "cell_type": "code",
   "execution_count": 7,
   "id": "referenced-insertion",
   "metadata": {
    "execution": {
     "iopub.execute_input": "2021-04-16T07:29:27.207262Z",
     "iopub.status.busy": "2021-04-16T07:29:27.205999Z",
     "iopub.status.idle": "2021-04-16T07:29:27.208538Z",
     "shell.execute_reply": "2021-04-16T07:29:27.207905Z"
    },
    "papermill": {
     "duration": 0.044768,
     "end_time": "2021-04-16T07:29:27.208704",
     "exception": false,
     "start_time": "2021-04-16T07:29:27.163936",
     "status": "completed"
    },
    "tags": []
   },
   "outputs": [],
   "source": [
    "combined = [ df_train, df_test]"
   ]
  },
  {
   "cell_type": "markdown",
   "id": "ecological-medicaid",
   "metadata": {
    "papermill": {
     "duration": 0.02537,
     "end_time": "2021-04-16T07:29:27.265158",
     "exception": false,
     "start_time": "2021-04-16T07:29:27.239788",
     "status": "completed"
    },
    "tags": []
   },
   "source": [
    "# Pclass"
   ]
  },
  {
   "cell_type": "code",
   "execution_count": 8,
   "id": "committed-turkey",
   "metadata": {
    "execution": {
     "iopub.execute_input": "2021-04-16T07:29:27.323230Z",
     "iopub.status.busy": "2021-04-16T07:29:27.322552Z",
     "iopub.status.idle": "2021-04-16T07:29:27.558359Z",
     "shell.execute_reply": "2021-04-16T07:29:27.557808Z"
    },
    "papermill": {
     "duration": 0.268076,
     "end_time": "2021-04-16T07:29:27.558513",
     "exception": false,
     "start_time": "2021-04-16T07:29:27.290437",
     "status": "completed"
    },
    "tags": []
   },
   "outputs": [
    {
     "data": {
      "image/png": "[encoded data removed]",
      "text/plain": [
       "<Figure size 360x360 with 1 Axes>"
      ]
     },
     "metadata": {},
     "output_type": "display_data"
    }
   ],
   "source": [
    "plt.figure(figsize=(5,5))\n",
    "sns.countplot(x='Pclass', data=df_train, palette='hls', hue='Survived')\n",
    "plt.show()"
   ]
  },
  {
   "cell_type": "markdown",
   "id": "removable-alaska",
   "metadata": {
    "papermill": {
     "duration": 0.025205,
     "end_time": "2021-04-16T07:29:27.609315",
     "exception": false,
     "start_time": "2021-04-16T07:29:27.584110",
     "status": "completed"
    },
    "tags": []
   },
   "source": [
    "# SisSp and Parch"
   ]
  },
  {
   "cell_type": "code",
   "execution_count": 9,
   "id": "daily-somalia",
   "metadata": {
    "execution": {
     "iopub.execute_input": "2021-04-16T07:29:27.681963Z",
     "iopub.status.busy": "2021-04-16T07:29:27.670112Z",
     "iopub.status.idle": "2021-04-16T07:29:28.135452Z",
     "shell.execute_reply": "2021-04-16T07:29:28.135999Z"
    },
    "papermill": {
     "duration": 0.50147,
     "end_time": "2021-04-16T07:29:28.136175",
     "exception": false,
     "start_time": "2021-04-16T07:29:27.634705",
     "status": "completed"
    },
    "tags": []
   },
   "outputs": [
    {
     "data": {
      "image/png": "[encoded data removed]",
      "text/plain": [
       "<Figure size 1080x360 with 2 Axes>"
      ]
     },
     "metadata": {},
     "output_type": "display_data"
    }
   ],
   "source": [
    "plt.figure(figsize=(15,5))\n",
    "plt.subplot(121)\n",
    "sns.countplot(x='SibSp', data=df_train, palette='hls', hue='Survived')\n",
    "plt.subplot(122)\n",
    "sns.countplot(x='Parch', data=df_train, palette='hls', hue='Survived')\n",
    "plt.show()"
   ]
  },
  {
   "cell_type": "code",
   "execution_count": 10,
   "id": "stunning-spouse",
   "metadata": {
    "execution": {
     "iopub.execute_input": "2021-04-16T07:29:28.226078Z",
     "iopub.status.busy": "2021-04-16T07:29:28.223659Z",
     "iopub.status.idle": "2021-04-16T07:29:28.632675Z",
     "shell.execute_reply": "2021-04-16T07:29:28.632100Z"
    },
    "papermill": {
     "duration": 0.470162,
     "end_time": "2021-04-16T07:29:28.632825",
     "exception": false,
     "start_time": "2021-04-16T07:29:28.162663",
     "status": "completed"
    },
    "tags": []
   },
   "outputs": [
    {
     "data": {
      "image/png": "[encoded data removed]",
      "text/plain": [
       "<Figure size 1440x360 with 2 Axes>"
      ]
     },
     "metadata": {},
     "output_type": "display_data"
    }
   ],
   "source": [
    "for d in combined:\n",
    "    d['Family_Size'] = d['SibSp'] + d['Parch']\n",
    "    d['has_family'] = (d['Family_Size']>0).astype('int32')\n",
    "    \n",
    "plt.figure(figsize=(20,5))\n",
    "plt.subplot(121)\n",
    "sns.countplot(x='Family_Size', data=df_train, palette='hls', hue='Survived')\n",
    "plt.subplot(122)\n",
    "sns.countplot(x='has_family', data=df_train, palette='hls', hue='Survived')\n",
    "plt.show()"
   ]
  },
  {
   "cell_type": "markdown",
   "id": "close-vertical",
   "metadata": {
    "papermill": {
     "duration": 0.026755,
     "end_time": "2021-04-16T07:29:28.687125",
     "exception": false,
     "start_time": "2021-04-16T07:29:28.660370",
     "status": "completed"
    },
    "tags": []
   },
   "source": [
    "# Age and Fare"
   ]
  },
  {
   "cell_type": "code",
   "execution_count": 11,
   "id": "aggregate-journalism",
   "metadata": {
    "execution": {
     "iopub.execute_input": "2021-04-16T07:29:28.753895Z",
     "iopub.status.busy": "2021-04-16T07:29:28.751594Z",
     "iopub.status.idle": "2021-04-16T07:29:29.361752Z",
     "shell.execute_reply": "2021-04-16T07:29:29.361074Z"
    },
    "papermill": {
     "duration": 0.647761,
     "end_time": "2021-04-16T07:29:29.361894",
     "exception": false,
     "start_time": "2021-04-16T07:29:28.714133",
     "status": "completed"
    },
    "tags": []
   },
   "outputs": [
    {
     "data": {
      "image/png": "[encoded data removed]",
      "text/plain": [
       "<Figure size 1080x360 with 2 Axes>"
      ]
     },
     "metadata": {},
     "output_type": "display_data"
    }
   ],
   "source": [
    "for d in combined:\n",
    "    d['is_Age'] = 1-d['Age'].isna().astype('int32')\n",
    "    d['is_Fare'] = 1-d['Fare'].isna().astype('int32')\n",
    "    \n",
    "for d in combined:\n",
    "    d['Age'].fillna(d['Age'].median(), inplace=True)\n",
    "    d['Fare'].fillna(d['Fare'].median(), inplace=True)\n",
    "    \n",
    "plt.figure(figsize=(15,5))\n",
    "plt.subplot(121)\n",
    "sns.histplot(df_train[\"Age\"], bins=45, kde=True)\n",
    "plt.subplot(122)\n",
    "sns.histplot(df_train[\"Fare\"], bins=45, kde=True)\n",
    "plt.show()"
   ]
  },
  {
   "cell_type": "code",
   "execution_count": 12,
   "id": "dietary-mixture",
   "metadata": {
    "execution": {
     "iopub.execute_input": "2021-04-16T07:29:29.562825Z",
     "iopub.status.busy": "2021-04-16T07:29:29.434989Z",
     "iopub.status.idle": "2021-04-16T07:29:30.137259Z",
     "shell.execute_reply": "2021-04-16T07:29:30.136680Z"
    },
    "papermill": {
     "duration": 0.747134,
     "end_time": "2021-04-16T07:29:30.137428",
     "exception": false,
     "start_time": "2021-04-16T07:29:29.390294",
     "status": "completed"
    },
    "tags": []
   },
   "outputs": [
    {
     "data": {
      "image/png": "[encoded data removed]",
      "text/plain": [
       "<Figure size 1080x360 with 2 Axes>"
      ]
     },
     "metadata": {},
     "output_type": "display_data"
    }
   ],
   "source": [
    "for d in combined:\n",
    "    d[\"Age\"] = np.log1p(d[\"Age\"])\n",
    "    d[\"Fare\"] = np.log1p(d[\"Fare\"])\n",
    "\n",
    "plt.figure(figsize=(15,5))\n",
    "plt.subplot(121)\n",
    "sns.histplot(df_train[\"Age\"], bins=45, kde=True)\n",
    "plt.subplot(122)\n",
    "sns.histplot(df_train[\"Fare\"], bins=45, kde=True)\n",
    "plt.show()"
   ]
  },
  {
   "cell_type": "markdown",
   "id": "eight-florida",
   "metadata": {
    "papermill": {
     "duration": 0.029196,
     "end_time": "2021-04-16T07:29:30.196591",
     "exception": false,
     "start_time": "2021-04-16T07:29:30.167395",
     "status": "completed"
    },
    "tags": []
   },
   "source": [
    "# Sex"
   ]
  },
  {
   "cell_type": "code",
   "execution_count": 13,
   "id": "decent-purpose",
   "metadata": {
    "execution": {
     "iopub.execute_input": "2021-04-16T07:29:30.267512Z",
     "iopub.status.busy": "2021-04-16T07:29:30.265368Z",
     "iopub.status.idle": "2021-04-16T07:29:30.411997Z",
     "shell.execute_reply": "2021-04-16T07:29:30.411174Z"
    },
    "papermill": {
     "duration": 0.185734,
     "end_time": "2021-04-16T07:29:30.412151",
     "exception": false,
     "start_time": "2021-04-16T07:29:30.226417",
     "status": "completed"
    },
    "tags": []
   },
   "outputs": [
    {
     "data": {
      "image/png": "[encoded data removed]",
      "text/plain": [
       "<Figure size 360x360 with 1 Axes>"
      ]
     },
     "metadata": {},
     "output_type": "display_data"
    }
   ],
   "source": [
    "plt.figure(figsize=(5,5))\n",
    "sns.countplot(x='Sex', data=df_train, palette='hls', hue='Survived')\n",
    "plt.show()"
   ]
  },
  {
   "cell_type": "markdown",
   "id": "coordinate-portsmouth",
   "metadata": {
    "papermill": {
     "duration": 0.030058,
     "end_time": "2021-04-16T07:29:30.472797",
     "exception": false,
     "start_time": "2021-04-16T07:29:30.442739",
     "status": "completed"
    },
    "tags": []
   },
   "source": [
    "# Embarked"
   ]
  },
  {
   "cell_type": "code",
   "execution_count": 14,
   "id": "lucky-association",
   "metadata": {
    "execution": {
     "iopub.execute_input": "2021-04-16T07:29:30.549562Z",
     "iopub.status.busy": "2021-04-16T07:29:30.543627Z",
     "iopub.status.idle": "2021-04-16T07:29:30.725950Z",
     "shell.execute_reply": "2021-04-16T07:29:30.725254Z"
    },
    "papermill": {
     "duration": 0.222023,
     "end_time": "2021-04-16T07:29:30.726109",
     "exception": false,
     "start_time": "2021-04-16T07:29:30.504086",
     "status": "completed"
    },
    "tags": []
   },
   "outputs": [
    {
     "data": {
      "image/png": "[encoded data removed]",
      "text/plain": [
       "<Figure size 360x360 with 1 Axes>"
      ]
     },
     "metadata": {},
     "output_type": "display_data"
    }
   ],
   "source": [
    "for d in combined:\n",
    "    d.fillna(d['Embarked'].mode(), inplace=True)\n",
    "    \n",
    "plt.figure(figsize=(5,5))\n",
    "sns.countplot(x='Embarked', data=df_train, palette='hls', hue='Survived')\n",
    "plt.show()"
   ]
  },
  {
   "cell_type": "markdown",
   "id": "thousand-engine",
   "metadata": {
    "papermill": {
     "duration": 0.031635,
     "end_time": "2021-04-16T07:29:30.789733",
     "exception": false,
     "start_time": "2021-04-16T07:29:30.758098",
     "status": "completed"
    },
    "tags": []
   },
   "source": [
    "# Name"
   ]
  },
  {
   "cell_type": "code",
   "execution_count": 15,
   "id": "external-morocco",
   "metadata": {
    "execution": {
     "iopub.execute_input": "2021-04-16T07:29:30.870350Z",
     "iopub.status.busy": "2021-04-16T07:29:30.868214Z",
     "iopub.status.idle": "2021-04-16T07:29:31.255567Z",
     "shell.execute_reply": "2021-04-16T07:29:31.255002Z"
    },
    "papermill": {
     "duration": 0.433993,
     "end_time": "2021-04-16T07:29:31.255719",
     "exception": false,
     "start_time": "2021-04-16T07:29:30.821726",
     "status": "completed"
    },
    "tags": []
   },
   "outputs": [
    {
     "data": {
      "image/png": "[encoded data removed]",
      "text/plain": [
       "<Figure size 1440x360 with 1 Axes>"
      ]
     },
     "metadata": {},
     "output_type": "display_data"
    }
   ],
   "source": [
    "for d in combined:\n",
    "    d['Title'] = d.Name.apply(lambda x: [t for t in x.split() if '.' in t ][0])\n",
    "\n",
    "plt.figure(figsize=(20,5))\n",
    "sns.countplot(x='Title', data=df_train, palette='hls', hue='Survived')\n",
    "plt.show()"
   ]
  },
  {
   "cell_type": "code",
   "execution_count": 16,
   "id": "controversial-broadcasting",
   "metadata": {
    "execution": {
     "iopub.execute_input": "2021-04-16T07:29:31.345947Z",
     "iopub.status.busy": "2021-04-16T07:29:31.343843Z",
     "iopub.status.idle": "2021-04-16T07:29:31.540983Z",
     "shell.execute_reply": "2021-04-16T07:29:31.540269Z"
    },
    "papermill": {
     "duration": 0.252865,
     "end_time": "2021-04-16T07:29:31.541132",
     "exception": false,
     "start_time": "2021-04-16T07:29:31.288267",
     "status": "completed"
    },
    "tags": []
   },
   "outputs": [
    {
     "data": {
      "image/png": "[encoded data removed]",
      "text/plain": [
       "<Figure size 720x360 with 1 Axes>"
      ]
     },
     "metadata": {},
     "output_type": "display_data"
    }
   ],
   "source": [
    "def replace_list(x, listwords, new_word):\n",
    "    for s in listwords:\n",
    "        x = x.replace(s, new_word)\n",
    "    return x\n",
    "\n",
    "for d in combined:\n",
    "    d['Title'] = d['Title'].apply(lambda x: replace_list(x, \\\n",
    "    ['Lady','Countess','Capt','Col','Don','Dr','Major','Rev','Sir','Jonkheer','Dona'], \\\n",
    "    'Rare'))\n",
    "    d['Title'] = d['Title'].apply(lambda x: replace_list(x, ['Mlle'], 'Miss'))\n",
    "    d['Title'] = d['Title'].apply(lambda x: replace_list(x, ['Ms'], 'Miss'))\n",
    "    d['Title'] = d['Title'].apply(lambda x: replace_list(x, ['Mme'], 'Mrs'))\n",
    "    \n",
    "plt.figure(figsize=(10,5))\n",
    "sns.countplot(x='Title', data=df_train, palette='hls', hue='Survived')\n",
    "plt.show()"
   ]
  },
  {
   "cell_type": "markdown",
   "id": "surface-professor",
   "metadata": {
    "papermill": {
     "duration": 0.033192,
     "end_time": "2021-04-16T07:29:31.608725",
     "exception": false,
     "start_time": "2021-04-16T07:29:31.575533",
     "status": "completed"
    },
    "tags": []
   },
   "source": [
    "# Cabin"
   ]
  },
  {
   "cell_type": "code",
   "execution_count": 17,
   "id": "elegant-california",
   "metadata": {
    "execution": {
     "iopub.execute_input": "2021-04-16T07:29:31.705180Z",
     "iopub.status.busy": "2021-04-16T07:29:31.689233Z",
     "iopub.status.idle": "2021-04-16T07:29:31.948772Z",
     "shell.execute_reply": "2021-04-16T07:29:31.948132Z"
    },
    "papermill": {
     "duration": 0.305245,
     "end_time": "2021-04-16T07:29:31.948921",
     "exception": false,
     "start_time": "2021-04-16T07:29:31.643676",
     "status": "completed"
    },
    "tags": []
   },
   "outputs": [
    {
     "data": {
      "image/png": "[encoded data removed]",
      "text/plain": [
       "<Figure size 720x360 with 1 Axes>"
      ]
     },
     "metadata": {},
     "output_type": "display_data"
    }
   ],
   "source": [
    "for d in combined:\n",
    "    d['Cabin'].fillna('Regular', inplace=True)\n",
    "    d[\"Cabin_0\"] = d[\"Cabin\"].apply(lambda x:x[0])\n",
    "    \n",
    "plt.figure(figsize=(10,5))\n",
    "sns.countplot(x='Cabin_0', data=df_train, palette='hls', hue='Survived')\n",
    "plt.show()    "
   ]
  },
  {
   "cell_type": "code",
   "execution_count": 18,
   "id": "approximate-clarity",
   "metadata": {
    "execution": {
     "iopub.execute_input": "2021-04-16T07:29:32.030318Z",
     "iopub.status.busy": "2021-04-16T07:29:32.029441Z",
     "iopub.status.idle": "2021-04-16T07:29:32.290867Z",
     "shell.execute_reply": "2021-04-16T07:29:32.290282Z"
    },
    "papermill": {
     "duration": 0.30748,
     "end_time": "2021-04-16T07:29:32.291011",
     "exception": false,
     "start_time": "2021-04-16T07:29:31.983531",
     "status": "completed"
    },
    "tags": []
   },
   "outputs": [
    {
     "data": {
      "image/png": "[encoded data removed]",
      "text/plain": [
       "<Figure size 720x360 with 1 Axes>"
      ]
     },
     "metadata": {},
     "output_type": "display_data"
    }
   ],
   "source": [
    "for d in combined:\n",
    "    d[\"Special_Cabin\"] = d.Cabin_0#.map( {\"A\":1,\"B\":1,\"C\":1,\"D\":1,\"E\":1,\"F\":1,\"G\":1,\"T\":1,\"R\":0} )\n",
    "    \n",
    "plt.figure(figsize=(10,5))\n",
    "sns.countplot(x='Special_Cabin', data=df_train, palette='hls', hue='Survived')\n",
    "plt.show()"
   ]
  },
  {
   "cell_type": "code",
   "execution_count": 19,
   "id": "continuing-halifax",
   "metadata": {
    "execution": {
     "iopub.execute_input": "2021-04-16T07:29:32.372805Z",
     "iopub.status.busy": "2021-04-16T07:29:32.371949Z",
     "iopub.status.idle": "2021-04-16T07:29:32.375061Z",
     "shell.execute_reply": "2021-04-16T07:29:32.374521Z"
    },
    "papermill": {
     "duration": 0.048928,
     "end_time": "2021-04-16T07:29:32.375197",
     "exception": false,
     "start_time": "2021-04-16T07:29:32.326269",
     "status": "completed"
    },
    "tags": []
   },
   "outputs": [],
   "source": [
    "def preprocessing_dataframe(df, test=False):\n",
    "    df_clean = df\n",
    "    df_clean['Pclass'] = df_clean['Pclass'].astype('int32')\n",
    "    df_clean['Age'] = df_clean['Age'].astype('float32')\n",
    "    df_clean['SibSp'] = df_clean['SibSp'].astype('int32')\n",
    "    df_clean['Parch'] = df_clean['Parch'].astype('int32')\n",
    "    df_clean['Fare'] = df_clean['Fare'].astype('float32')\n",
    "    if not test:\n",
    "        df_clean['Survived'] = df_clean['Survived'].astype('int32')\n",
    "    return df_clean\n",
    "\n",
    "df_train = preprocessing_dataframe(df_train)\n",
    "df_test = preprocessing_dataframe(df_test, test=True)"
   ]
  },
  {
   "cell_type": "code",
   "execution_count": 20,
   "id": "surrounded-tonight",
   "metadata": {
    "execution": {
     "iopub.execute_input": "2021-04-16T07:29:32.456315Z",
     "iopub.status.busy": "2021-04-16T07:29:32.455628Z",
     "iopub.status.idle": "2021-04-16T07:29:34.383051Z",
     "shell.execute_reply": "2021-04-16T07:29:34.383564Z"
    },
    "papermill": {
     "duration": 1.973201,
     "end_time": "2021-04-16T07:29:34.383761",
     "exception": false,
     "start_time": "2021-04-16T07:29:32.410560",
     "status": "completed"
    },
    "tags": []
   },
   "outputs": [
    {
     "name": "stdout",
     "output_type": "stream",
     "text": [
      "891 -> 776\n"
     ]
    }
   ],
   "source": [
    "x_features_columns = ['Pclass','Sex','Age','is_Age','has_family','Fare','is_Fare','Embarked','Special_Cabin','Title']#,'Ticket_type']\n",
    "from collections import Counter\n",
    "dfs=[]\n",
    "for g,df in df_train[x_features_columns].groupby(x_features_columns):\n",
    "    sv_values =  df_train.iloc[df.index]['Survived'].values\n",
    "    if len(df)>1:\n",
    "        df1 = df.iloc[0:1]\n",
    "        df1['Survived']=Counter(df_train.iloc[df.index]['Survived'].values).most_common()[0][0]\n",
    "        dfs.append(df1)\n",
    "    else:\n",
    "        df1 = df.iloc[0:1]\n",
    "        df1['Survived'] = df_train.iloc[df.index[0]]['Survived']\n",
    "        dfs.append(df1)\n",
    "dfs=pd.concat(dfs,axis=0)\n",
    "print(len(df_train),'->',len(dfs))\n",
    "df_train=dfs"
   ]
  },
  {
   "cell_type": "code",
   "execution_count": 21,
   "id": "optimum-workstation",
   "metadata": {
    "execution": {
     "iopub.execute_input": "2021-04-16T07:29:34.465108Z",
     "iopub.status.busy": "2021-04-16T07:29:34.464430Z",
     "iopub.status.idle": "2021-04-16T07:29:34.489914Z",
     "shell.execute_reply": "2021-04-16T07:29:34.489323Z"
    },
    "papermill": {
     "duration": 0.070404,
     "end_time": "2021-04-16T07:29:34.490078",
     "exception": false,
     "start_time": "2021-04-16T07:29:34.419674",
     "status": "completed"
    },
    "tags": []
   },
   "outputs": [],
   "source": [
    "feat2transform={\n",
    "    'Pclass':OneHotEncoder(), \n",
    "    'Sex':LabelEncoder(), \n",
    "    'Age':MinMaxScaler(), \n",
    "    'is_Age':LabelEncoder(), \n",
    "    'SibSp':MinMaxScaler(),\n",
    "    'Parch':MinMaxScaler(),\n",
    "    'Family_Size':MinMaxScaler(),\n",
    "    'has_family':LabelEncoder(), \n",
    "    'Fare':MinMaxScaler(),  \n",
    "    'is_Fare':LabelEncoder(), \n",
    "    'Embarked':OneHotEncoder(),\n",
    "    'Special_Cabin':OneHotEncoder(),\n",
    "    'Title':OneHotEncoder(),\n",
    "    'Ticket_type':OneHotEncoder(),\n",
    "}\n",
    "\n",
    "def fit_transformations(df_clean):\n",
    "    for col in x_features_columns:\n",
    "        t = feat2transform[col]\n",
    "        t.fit(df_clean[col].values.reshape([-1,1]))\n",
    "\n",
    "def preprocessing_data(df_clean, test=False):\n",
    "    \n",
    "    data = []\n",
    "    for col in x_features_columns:\n",
    "        t = feat2transform[col]\n",
    "        d = t.transform(df_clean[col].values.reshape([-1,1]))\n",
    "        if type(t) is OneHotEncoder:\n",
    "            d = d.toarray()\n",
    "        if type(t) is LabelEncoder:\n",
    "            d = d.reshape([-1,1])\n",
    "        data.append(d)\n",
    "    \n",
    "    data = np.concatenate(data,axis=1)\n",
    "    \n",
    "    if test:\n",
    "        return data\n",
    "    \n",
    "    target = df_clean['Survived'].values.reshape([-1,1])\n",
    "    \n",
    "    return data,target\n",
    "\n",
    "fit_transformations(pd.concat([df_train, df_test]))\n",
    "data,target = preprocessing_data(df_train)\n",
    "test_data = preprocessing_data(df_test, test=True)"
   ]
  },
  {
   "cell_type": "code",
   "execution_count": 22,
   "id": "lucky-cliff",
   "metadata": {
    "execution": {
     "iopub.execute_input": "2021-04-16T07:29:34.569348Z",
     "iopub.status.busy": "2021-04-16T07:29:34.568674Z",
     "iopub.status.idle": "2021-04-16T07:29:34.891814Z",
     "shell.execute_reply": "2021-04-16T07:29:34.892376Z"
    },
    "papermill": {
     "duration": 0.365963,
     "end_time": "2021-04-16T07:29:34.892563",
     "exception": false,
     "start_time": "2021-04-16T07:29:34.526600",
     "status": "completed"
    },
    "tags": []
   },
   "outputs": [],
   "source": [
    "import xgboost as xgb\n",
    "from sklearn.svm import SVC\n",
    "from sklearn.metrics import accuracy_score\n",
    "import numpy as np\n",
    "from sklearn.decomposition import PCA\n",
    "import sys\n",
    "from sklearn.manifold import TSNE"
   ]
  },
  {
   "cell_type": "markdown",
   "id": "prompt-philippines",
   "metadata": {
    "papermill": {
     "duration": 0.035673,
     "end_time": "2021-04-16T07:29:34.964541",
     "exception": false,
     "start_time": "2021-04-16T07:29:34.928868",
     "status": "completed"
    },
    "tags": []
   },
   "source": [
    "# Aditional Features"
   ]
  },
  {
   "cell_type": "code",
   "execution_count": 23,
   "id": "peripheral-utility",
   "metadata": {
    "execution": {
     "iopub.execute_input": "2021-04-16T07:29:35.040541Z",
     "iopub.status.busy": "2021-04-16T07:29:35.039861Z",
     "iopub.status.idle": "2021-04-16T07:29:35.077961Z",
     "shell.execute_reply": "2021-04-16T07:29:35.079141Z"
    },
    "papermill": {
     "duration": 0.078829,
     "end_time": "2021-04-16T07:29:35.079464",
     "exception": false,
     "start_time": "2021-04-16T07:29:35.000635",
     "status": "completed"
    },
    "tags": []
   },
   "outputs": [
    {
     "name": "stdout",
     "output_type": "stream",
     "text": [
      "(1194, 27)\n",
      "(776, 37)\n"
     ]
    }
   ],
   "source": [
    "X = np.concatenate([data, test_data], axis=0)\n",
    "print(X.shape)\n",
    "pca = PCA(n_components=10)\n",
    "pca.fit(X)\n",
    "\n",
    "data_pca= pca.transform(data)\n",
    "test_pca= pca.transform(test_data)\n",
    "\n",
    "data_pca=data_pca#/np.linalg.norm(Y)\n",
    "test_pca=test_pca#/np.linalg.norm(Y)\n",
    "\n",
    "data_and_pca=np.concatenate([data, data_pca],axis=1)\n",
    "test_and_pca=np.concatenate([test_data, test_pca],axis=1)\n",
    "print(data_and_pca.shape)"
   ]
  },
  {
   "cell_type": "markdown",
   "id": "northern-child",
   "metadata": {
    "papermill": {
     "duration": 0.038984,
     "end_time": "2021-04-16T07:29:35.243086",
     "exception": false,
     "start_time": "2021-04-16T07:29:35.204102",
     "status": "completed"
    },
    "tags": []
   },
   "source": [
    "# Model"
   ]
  },
  {
   "cell_type": "code",
   "execution_count": 24,
   "id": "growing-czech",
   "metadata": {
    "execution": {
     "iopub.execute_input": "2021-04-16T07:29:35.325586Z",
     "iopub.status.busy": "2021-04-16T07:29:35.324894Z",
     "iopub.status.idle": "2021-04-16T07:31:53.168939Z",
     "shell.execute_reply": "2021-04-16T07:31:53.169483Z"
    },
    "papermill": {
     "duration": 137.889406,
     "end_time": "2021-04-16T07:31:53.169671",
     "exception": false,
     "start_time": "2021-04-16T07:29:35.280265",
     "status": "completed"
    },
    "tags": []
   },
   "outputs": [
    {
     "name": "stdout",
     "output_type": "stream",
     "text": [
      "Fitting 5 folds for each of 18 candidates, totalling 90 fits\n"
     ]
    },
    {
     "data": {
      "text/plain": [
       "GridSearchCV(cv=5, estimator=RandomForestClassifier(), n_jobs=-1,\n",
       "             param_grid={'max_depth': [5, 7, 9],\n",
       "                         'max_features': ['auto', 'sqrt', 'log2'],\n",
       "                         'n_estimators': [1000, 2000]},\n",
       "             verbose=2)"
      ]
     },
     "execution_count": 24,
     "metadata": {},
     "output_type": "execute_result"
    }
   ],
   "source": [
    "from sklearn.model_selection import train_test_split\n",
    "\n",
    "param_grid = {\n",
    "    'n_estimators': [1000, 2000],\n",
    "    'max_features': ['auto', 'sqrt', 'log2'],\n",
    "    'max_depth':[5,7,9]\n",
    "}\n",
    "\n",
    "grid = GridSearchCV(estimator=RandomForestClassifier(), \n",
    "                    param_grid=param_grid,\n",
    "                    cv=5,\n",
    "                    verbose=2,\n",
    "                    n_jobs=-1)\n",
    "grid.fit(data_and_pca, target)"
   ]
  },
  {
   "cell_type": "code",
   "execution_count": 25,
   "id": "lesser-oliver",
   "metadata": {
    "execution": {
     "iopub.execute_input": "2021-04-16T07:31:53.251950Z",
     "iopub.status.busy": "2021-04-16T07:31:53.250869Z",
     "iopub.status.idle": "2021-04-16T07:31:53.653821Z",
     "shell.execute_reply": "2021-04-16T07:31:53.653049Z"
    },
    "papermill": {
     "duration": 0.446974,
     "end_time": "2021-04-16T07:31:53.653977",
     "exception": false,
     "start_time": "2021-04-16T07:31:53.207003",
     "status": "completed"
    },
    "tags": []
   },
   "outputs": [],
   "source": [
    "prediction = grid.best_estimator_.predict(test_and_pca)\n",
    "df_test['Survived']=prediction\n",
    "res = df_test[['PassengerId','Survived']]\n",
    "res.to_csv('output.csv', index=False)"
   ]
  },
  {
   "cell_type": "markdown",
   "id": "registered-blind",
   "metadata": {
    "papermill": {
     "duration": 0.037168,
     "end_time": "2021-04-16T07:31:53.728748",
     "exception": false,
     "start_time": "2021-04-16T07:31:53.691580",
     "status": "completed"
    },
    "tags": []
   },
   "source": []
  }
 ],
 "metadata": {
  "kernelspec": {
   "display_name": "Python 3",
   "language": "python",
   "name": "python3"
  },
  "language_info": {
   "codemirror_mode": {
    "name": "ipython",
    "version": 3
   },
   "file_extension": ".py",
   "mimetype": "text/x-python",
   "name": "python",
   "nbconvert_exporter": "python",
   "pygments_lexer": "ipython3",
   "version": "3.7.9"
  },
  "papermill": {
   "default_parameters": {},
   "duration": 156.169202,
   "end_time": "2021-04-16T07:31:54.678913",
   "environment_variables": {},
   "exception": null,
   "input_path": "__notebook__.ipynb",
   "output_path": "__notebook__.ipynb",
   "parameters": {},
   "start_time": "2021-04-16T07:29:18.509711",
   "version": "2.3.2"
  }
 },
 "nbformat": 4,
 "nbformat_minor": 5
}
